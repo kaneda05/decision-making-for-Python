{
 "cells": [
  {
   "cell_type": "markdown",
   "metadata": {},
   "source": [
    "# 5つの決定基準と分析手法"
   ]
  },
  {
   "cell_type": "markdown",
   "metadata": {},
   "source": [
    "## マキシックス基準の実装\n",
    "\n",
    "最大利得を最大にするのがマキシマックス基準"
   ]
  },
  {
   "cell_type": "code",
   "execution_count": 69,
   "metadata": {},
   "outputs": [],
   "source": [
    "import pandas as pd\n",
    "import numpy as np\n",
    "from calc_payiff_table import calc_payoff_table"
   ]
  },
  {
   "cell_type": "code",
   "execution_count": 11,
   "metadata": {},
   "outputs": [
    {
     "data": {
      "text/html": [
       "<div>\n",
       "<style scoped>\n",
       "    .dataframe tbody tr th:only-of-type {\n",
       "        vertical-align: middle;\n",
       "    }\n",
       "\n",
       "    .dataframe tbody tr th {\n",
       "        vertical-align: top;\n",
       "    }\n",
       "\n",
       "    .dataframe thead th {\n",
       "        text-align: right;\n",
       "    }\n",
       "</style>\n",
       "<table border=\"1\" class=\"dataframe\">\n",
       "  <thead>\n",
       "    <tr style=\"text-align: right;\">\n",
       "      <th></th>\n",
       "      <th>0台</th>\n",
       "      <th>1台</th>\n",
       "      <th>2台</th>\n",
       "    </tr>\n",
       "  </thead>\n",
       "  <tbody>\n",
       "    <tr>\n",
       "      <th>好調</th>\n",
       "      <td>-100.0</td>\n",
       "      <td>300.0</td>\n",
       "      <td>700.0</td>\n",
       "    </tr>\n",
       "    <tr>\n",
       "      <th>不調</th>\n",
       "      <td>-100.0</td>\n",
       "      <td>300.0</td>\n",
       "      <td>-300.0</td>\n",
       "    </tr>\n",
       "  </tbody>\n",
       "</table>\n",
       "</div>"
      ],
      "text/plain": [
       "        0台    1台    2台\n",
       "好調 -100.0  300.0  700.0\n",
       "不調 -100.0  300.0 -300.0"
      ]
     },
     "execution_count": 11,
     "metadata": {},
     "output_type": "execute_result"
    }
   ],
   "source": [
    "payoff = calc_payoff_table(100, 600, 0.2, 5000, 10000, 5000)\n",
    "payoff"
   ]
  },
  {
   "cell_type": "code",
   "execution_count": 12,
   "metadata": {},
   "outputs": [
    {
     "data": {
      "text/plain": [
       "0台   -100.0\n",
       "1台    300.0\n",
       "2台    700.0\n",
       "dtype: float64"
      ]
     },
     "execution_count": 12,
     "metadata": {},
     "output_type": "execute_result"
    }
   ],
   "source": [
    "# 選択肢ごとの最大利得\n",
    "payoff.max()"
   ]
  },
  {
   "cell_type": "code",
   "execution_count": 13,
   "metadata": {},
   "outputs": [
    {
     "data": {
      "text/plain": [
       "700.0"
      ]
     },
     "execution_count": 13,
     "metadata": {},
     "output_type": "execute_result"
    }
   ],
   "source": [
    "# 最大利得の最大\n",
    "payoff.max().max()"
   ]
  },
  {
   "cell_type": "code",
   "execution_count": 14,
   "metadata": {},
   "outputs": [
    {
     "data": {
      "text/plain": [
       "0台    False\n",
       "1台    False\n",
       "2台     True\n",
       "dtype: bool"
      ]
     },
     "execution_count": 14,
     "metadata": {},
     "output_type": "execute_result"
    }
   ],
   "source": [
    "payoff.max() == payoff.max().max()"
   ]
  },
  {
   "cell_type": "code",
   "execution_count": 16,
   "metadata": {},
   "outputs": [
    {
     "data": {
      "text/plain": [
       "2台    700.0\n",
       "dtype: float64"
      ]
     },
     "execution_count": 16,
     "metadata": {},
     "output_type": "execute_result"
    }
   ],
   "source": [
    "# 最大値と等しい利得要素の取得\n",
    "payoff.max()[payoff.max() == payoff.max().max()]"
   ]
  },
  {
   "cell_type": "code",
   "execution_count": 19,
   "metadata": {},
   "outputs": [
    {
     "data": {
      "text/plain": [
       "['2台']"
      ]
     },
     "execution_count": 19,
     "metadata": {},
     "output_type": "execute_result"
    }
   ],
   "source": [
    "#　最大値と等しい利得要素インデックスの取得\n",
    "list(payoff.max()[payoff.max() == payoff.max().max()].index)"
   ]
  },
  {
   "cell_type": "code",
   "execution_count": 22,
   "metadata": {},
   "outputs": [],
   "source": [
    "def argmax_list(series):\n",
    "    return (list(series[series == series.max()].index))"
   ]
  },
  {
   "cell_type": "code",
   "execution_count": 23,
   "metadata": {},
   "outputs": [],
   "source": [
    "def argmin_list(series):\n",
    "    return (list(series[series == series.min()].index))"
   ]
  },
  {
   "cell_type": "code",
   "execution_count": 31,
   "metadata": {},
   "outputs": [
    {
     "name": "stdout",
     "output_type": "stream",
     "text": [
      "Maximax: ['2台']\n"
     ]
    }
   ],
   "source": [
    "print(\"Maximax:\", argmax_list(payoff.max()))"
   ]
  },
  {
   "cell_type": "markdown",
   "metadata": {},
   "source": [
    "## マキシミン基準\n",
    "\n",
    "最小利得を最大にするのがマキシミン基準"
   ]
  },
  {
   "cell_type": "code",
   "execution_count": 30,
   "metadata": {},
   "outputs": [
    {
     "data": {
      "text/plain": [
       "0台   -100.0\n",
       "1台    300.0\n",
       "2台   -300.0\n",
       "dtype: float64"
      ]
     },
     "execution_count": 30,
     "metadata": {},
     "output_type": "execute_result"
    }
   ],
   "source": [
    "# 選択肢ごとの最小利得\n",
    "payoff.min()"
   ]
  },
  {
   "cell_type": "code",
   "execution_count": 28,
   "metadata": {},
   "outputs": [
    {
     "name": "stdout",
     "output_type": "stream",
     "text": [
      "Maximin: ['1台']\n"
     ]
    }
   ],
   "source": [
    "print(\"Maximin:\", argmax_list(payoff.min()))"
   ]
  },
  {
   "cell_type": "markdown",
   "metadata": {},
   "source": [
    "## ハーヴィッツの基準\n",
    "\n",
    "最大利得（楽観的）と最小利得（悲観的）を楽観係数で重み付けした合計を計算のがハーヴィッツの基準"
   ]
  },
  {
   "cell_type": "code",
   "execution_count": 33,
   "metadata": {},
   "outputs": [
    {
     "data": {
      "text/plain": [
       "0台   -100.0\n",
       "1台    300.0\n",
       "2台    300.0\n",
       "dtype: float64"
      ]
     },
     "execution_count": 33,
     "metadata": {},
     "output_type": "execute_result"
    }
   ],
   "source": [
    "# alpha=0.6とした場合のハーヴィッツの基準\n",
    "hurwicz = payoff.max() * 0.6 + payoff.min() * (1 - 0.6)\n",
    "hurwicz"
   ]
  },
  {
   "cell_type": "code",
   "execution_count": 34,
   "metadata": {},
   "outputs": [
    {
     "data": {
      "text/plain": [
       "['1台', '2台']"
      ]
     },
     "execution_count": 34,
     "metadata": {},
     "output_type": "execute_result"
    }
   ],
   "source": [
    "argmax_list(hurwicz)"
   ]
  },
  {
   "cell_type": "markdown",
   "metadata": {},
   "source": [
    "楽観係数を0.6としたハーヴィッツの基準によると、１台稼働と２台稼働が同等に好ましいという結果になる"
   ]
  },
  {
   "cell_type": "code",
   "execution_count": 36,
   "metadata": {},
   "outputs": [],
   "source": [
    "def hurwicz(payoff_table, alpha):\n",
    "    hurwicz = payoff_table.max() * alpha + payoff_table.min() * (1 - alpha)\n",
    "    return argmax_list(hurwicz)"
   ]
  },
  {
   "cell_type": "code",
   "execution_count": 48,
   "metadata": {},
   "outputs": [
    {
     "name": "stdout",
     "output_type": "stream",
     "text": [
      "Hurwicz: ['1台', '2台']\n"
     ]
    }
   ],
   "source": [
    "print('Hurwicz:', hurwicz(payoff, 0.6))"
   ]
  },
  {
   "cell_type": "code",
   "execution_count": 67,
   "metadata": {},
   "outputs": [
    {
     "name": "stdout",
     "output_type": "stream",
     "text": [
      "楽観係数: 0.1 Hurwicz: ['1台']\n",
      "楽観係数: 0.2 Hurwicz: ['1台']\n",
      "楽観係数: 0.3 Hurwicz: ['1台']\n",
      "楽観係数: 0.4 Hurwicz: ['1台']\n",
      "楽観係数: 0.5 Hurwicz: ['1台']\n",
      "楽観係数: 0.6 Hurwicz: ['1台', '2台']\n",
      "楽観係数: 0.7 Hurwicz: ['2台']\n",
      "楽観係数: 0.8 Hurwicz: ['2台']\n",
      "楽観係数: 0.9 Hurwicz: ['2台']\n",
      "楽観係数: 1.0 Hurwicz: ['2台']\n"
     ]
    }
   ],
   "source": [
    "for i in range(1,11):\n",
    "    cnt = i/10\n",
    "    print(\"楽観係数: \" + str(cnt) + ' Hurwicz:', hurwicz(payoff, cnt))"
   ]
  },
  {
   "cell_type": "markdown",
   "metadata": {},
   "source": [
    "楽観係数が0.6以下では景気の先行きに対して悲観的になるため、１台稼働が選ばれるが、\n",
    "0.6以上だと景気が良くなるという楽観視をすることが計算より求められた"
   ]
  },
  {
   "cell_type": "markdown",
   "metadata": {},
   "source": [
    "## ミニマックスリグレット基準\n",
    "\n",
    "リグレットとは状態ごとに見た最大利得から実際の利得を差し引いたもの（≒各状態の最大値ー実現値）\n",
    "\n",
    "自然の状態ごとに見た最大利得と比較した差額（機会損失）を最小とする選択肢を採用するのがミニマックスリグレット基準"
   ]
  },
  {
   "cell_type": "code",
   "execution_count": 70,
   "metadata": {},
   "outputs": [
    {
     "name": "stdout",
     "output_type": "stream",
     "text": [
      "        0台    1台    2台\n",
      "好調  700.0  700.0  700.0\n",
      "不調  300.0  300.0  300.0\n"
     ]
    }
   ],
   "source": [
    "#　自然状態ごとに見た最大利得\n",
    "best_df = pd.concat([payoff.max(axis=1)] * payoff.shape[1], axis=1)\n",
    "best_df.columns = payoff.columns\n",
    "print(best_df)"
   ]
  },
  {
   "cell_type": "markdown",
   "metadata": {},
   "source": [
    "好調の時は700万円で、不調の時が300万円が最大利得である\n",
    "\n",
    "リグレットとは自然の状態ごとに見た最大利得から実際の利得を差し引いたもの"
   ]
  },
  {
   "cell_type": "code",
   "execution_count": 72,
   "metadata": {},
   "outputs": [
    {
     "name": "stdout",
     "output_type": "stream",
     "text": [
      "        0台    1台    2台\n",
      "好調  800.0  400.0    0.0\n",
      "不調  400.0    0.0  600.0\n"
     ]
    }
   ],
   "source": [
    "# リグレット\n",
    "regret_df = best_df - payoff\n",
    "print(regret_df)"
   ]
  },
  {
   "cell_type": "code",
   "execution_count": 73,
   "metadata": {},
   "outputs": [
    {
     "data": {
      "text/plain": [
       "0台    800.0\n",
       "1台    400.0\n",
       "2台    600.0\n",
       "dtype: float64"
      ]
     },
     "execution_count": 73,
     "metadata": {},
     "output_type": "execute_result"
    }
   ],
   "source": [
    "#　各々の選択肢におけるリグレットの最大値\n",
    "regret_df.max()"
   ]
  },
  {
   "cell_type": "markdown",
   "metadata": {},
   "source": [
    "リグレットの最大値が最小になるような選択を採択するのがミニマックスリグレット基準なので"
   ]
  },
  {
   "cell_type": "code",
   "execution_count": 75,
   "metadata": {},
   "outputs": [
    {
     "data": {
      "text/plain": [
       "['1台']"
      ]
     },
     "execution_count": 75,
     "metadata": {},
     "output_type": "execute_result"
    }
   ],
   "source": [
    "argmin_list(regret_df.max())"
   ]
  },
  {
   "cell_type": "code",
   "execution_count": 94,
   "metadata": {},
   "outputs": [],
   "source": [
    "def minimax_regret(payoff_table):\n",
    "    best_df = pd.concat([payoff_table.max(axis=1)] * payoff_table.shape[1], axis=1)\n",
    "    best_df.columns = payoff_table.columns\n",
    "    # リグレット\n",
    "    regret_df = best_df - payoff_table # リグレットとは自然の状態ごとに見た最大利得から実際の利得を差し引いたもの\n",
    "\n",
    "    # リグレットの最大値が最小になるような選択を採択するのがミニマックスリグレット基準\n",
    "    return(argmin_list(regret_df.max()))"
   ]
  },
  {
   "cell_type": "markdown",
   "metadata": {},
   "source": [
    "## ラプラス基準\n",
    "平均利得が最大とするのがラプラス基準"
   ]
  },
  {
   "cell_type": "code",
   "execution_count": 95,
   "metadata": {},
   "outputs": [
    {
     "data": {
      "text/plain": [
       "0台   -100.0\n",
       "1台    300.0\n",
       "2台    200.0\n",
       "dtype: float64"
      ]
     },
     "execution_count": 95,
     "metadata": {},
     "output_type": "execute_result"
    }
   ],
   "source": [
    "#　選択肢ごとの平均利得\n",
    "payoff.mean()"
   ]
  },
  {
   "cell_type": "code",
   "execution_count": 96,
   "metadata": {},
   "outputs": [
    {
     "name": "stdout",
     "output_type": "stream",
     "text": [
      "Laplace: ['1台']\n"
     ]
    }
   ],
   "source": [
    "print('Laplace:', argmax_list(payoff.mean()))"
   ]
  },
  {
   "cell_type": "markdown",
   "metadata": {},
   "source": [
    "## 感度分析\n",
    "モデルの前提になった数値の変化が、意思決定の結果にどれほど影響を与えるかを調べる分析"
   ]
  },
  {
   "cell_type": "markdown",
   "metadata": {},
   "source": [
    "ミニマックスリグレット基準を使って決定する際に、機械１台の稼働コストの推定誤差がもたらす影響を算出する"
   ]
  },
  {
   "cell_type": "code",
   "execution_count": 108,
   "metadata": {},
   "outputs": [
    {
     "name": "stdout",
     "output_type": "stream",
     "text": [
      "        0台    1台    2台\n",
      "好調 -100.0  300.0  700.0\n",
      "不調 -100.0  300.0 -300.0\n",
      "Minimax regret ['1台']\n"
     ]
    }
   ],
   "source": [
    "#　# 機械１台の稼働コストを25万円増加\n",
    "payoff_1 = calc_payoff_table(fixed_cost=100, run_cost=600, sale_price=0.2,\n",
    "                                machine_ability=5000, demand_boom=10000, demand_slump=5000)\n",
    "print(payoff_1)\n",
    "print('Minimax regret', minimax_regret(payoff_1))"
   ]
  },
  {
   "cell_type": "code",
   "execution_count": 109,
   "metadata": {},
   "outputs": [
    {
     "name": "stdout",
     "output_type": "stream",
     "text": [
      "        0台    1台    2台\n",
      "好調 -100.0  275.0  650.0\n",
      "不調 -100.0  275.0 -350.0\n",
      "Minimax regret ['1台']\n"
     ]
    }
   ],
   "source": [
    "#　# 機械１台の稼働コストを25万円増加\n",
    "payoff_2 = calc_payoff_table(fixed_cost=100, run_cost=625, sale_price=0.2,\n",
    "                                machine_ability=5000, demand_boom=10000, demand_slump=5000)\n",
    "print(payoff_2)\n",
    "print('Minimax regret', minimax_regret(payoff_2))"
   ]
  },
  {
   "cell_type": "code",
   "execution_count": 110,
   "metadata": {},
   "outputs": [
    {
     "name": "stdout",
     "output_type": "stream",
     "text": [
      "        0台    1台    2台\n",
      "好調 -100.0  325.0  750.0\n",
      "不調 -100.0  325.0 -250.0\n",
      "Minimax regret ['1台']\n"
     ]
    }
   ],
   "source": [
    "#　# 機械１台の稼働コストを25万円減少\n",
    "payoff_3 = calc_payoff_table(fixed_cost=100, run_cost=575, sale_price=0.2,\n",
    "                                machine_ability=5000, demand_boom=10000, demand_slump=5000)\n",
    "print(payoff_3)\n",
    "print('Minimax regret', minimax_regret(payoff_3))"
   ]
  },
  {
   "cell_type": "code",
   "execution_count": 117,
   "metadata": {},
   "outputs": [
    {
     "name": "stdout",
     "output_type": "stream",
     "text": [
      "        0台    1台    2台\n",
      "好調 -100.0  400.0  900.0\n",
      "不調 -100.0  400.0 -100.0\n",
      "Minimax regret ['1台', '2台']\n"
     ]
    }
   ],
   "source": [
    "# 機械１台の稼働コストを100万円減少\n",
    "payoff_4 = calc_payoff_table(fixed_cost=100, run_cost=500, sale_price=0.2,\n",
    "                                machine_ability=5000, demand_boom=10000, demand_slump=5000)\n",
    "print(payoff_4)\n",
    "print('Minimax regret', minimax_regret(payoff_4))"
   ]
  },
  {
   "cell_type": "code",
   "execution_count": 116,
   "metadata": {},
   "outputs": [
    {
     "name": "stdout",
     "output_type": "stream",
     "text": [
      "        0台    1台    2台\n",
      "好調 -100.0  425.0  950.0\n",
      "不調 -100.0  425.0  -50.0\n",
      "Minimax regret ['2台']\n"
     ]
    }
   ],
   "source": [
    "# 機械１代の稼働コストを125万円減少\n",
    "payoff_5 = calc_payoff_table(fixed_cost=100, run_cost=475, sale_price=0.2,\n",
    "                                machine_ability=5000, demand_boom=10000, demand_slump=5000)\n",
    "print(payoff_5)\n",
    "print('Minimax regret', minimax_regret(payoff_5))"
   ]
  },
  {
   "cell_type": "markdown",
   "metadata": {},
   "source": [
    "機械１台の稼働コストを初期値600万から25万ずつ増減させた際に、\n",
    "100万減少させた場合は１台と２台が好ましく、100万以下は２台稼働だが、それ以外は１台が好ましい"
   ]
  },
  {
   "cell_type": "code",
   "execution_count": null,
   "metadata": {},
   "outputs": [],
   "source": []
  }
 ],
 "metadata": {
  "interpreter": {
   "hash": "a665b5d41d17b532ea9890333293a1b812fa0b73c9c25c950b3cedf1bebd0438"
  },
  "kernelspec": {
   "display_name": "Python 3.9.18 64-bit",
   "name": "python3"
  },
  "language_info": {
   "codemirror_mode": {
    "name": "ipython",
    "version": 3
   },
   "file_extension": ".py",
   "mimetype": "text/x-python",
   "name": "python",
   "nbconvert_exporter": "python",
   "pygments_lexer": "ipython3",
   "version": "3.9.18"
  },
  "orig_nbformat": 4
 },
 "nbformat": 4,
 "nbformat_minor": 2
}
