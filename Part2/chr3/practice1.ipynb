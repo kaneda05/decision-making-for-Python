{
 "cells": [
  {
   "cell_type": "markdown",
   "metadata": {},
   "source": [
    "# Pythonによる分析の準備"
   ]
  },
  {
   "cell_type": "code",
   "execution_count": 3,
   "metadata": {},
   "outputs": [],
   "source": [
    "import pandas as pd\n",
    "import numpy as np\n",
    "pd.set_option('display.unicode.east_asian_width', True)"
   ]
  },
  {
   "cell_type": "markdown",
   "metadata": {},
   "source": [
    "# パラメータの設定"
   ]
  },
  {
   "cell_type": "code",
   "execution_count": 4,
   "metadata": {},
   "outputs": [],
   "source": [
    "# 利得を計算する際のパラメータ\n",
    "fixed_cost = 100\n",
    "run_cost = 600\n",
    "sale_price = 0.2\n",
    "\n",
    "machine_ability = 5000\n",
    "demand_boom = 10000\n",
    "demand_slump = 5000"
   ]
  },
  {
   "cell_type": "code",
   "execution_count": 13,
   "metadata": {},
   "outputs": [
    {
     "name": "stdout",
     "output_type": "stream",
     "text": [
      "      0台   1台    2台\n",
      "好調    0  5000  10000\n",
      "不調    0  5000   5000\n"
     ]
    }
   ],
   "source": [
    "# 出荷された製品の個数\n",
    "num_product_df = pd.DataFrame({\n",
    "    '0台': [0, 0],\n",
    "    '1台': [min([machine_ability, demand_boom]),\n",
    "           min(machine_ability, demand_slump)],\n",
    "    '2台': [min([machine_ability * 2, demand_boom]),\n",
    "           min(machine_ability * 2, demand_slump)],\n",
    "})\n",
    "\n",
    "num_product_df.index = ['好調', '不調']\n",
    "print(num_product_df)"
   ]
  },
  {
   "cell_type": "code",
   "execution_count": 14,
   "metadata": {},
   "outputs": [
    {
     "name": "stdout",
     "output_type": "stream",
     "text": [
      "      0台     1台     2台\n",
      "好調  0.0  1000.0  2000.0\n",
      "不調  0.0  1000.0  1000.0\n"
     ]
    }
   ],
   "source": [
    "# 売り上げ行列\n",
    "sales_df = num_product_df * sale_price\n",
    "print(sales_df)"
   ]
  },
  {
   "cell_type": "code",
   "execution_count": 15,
   "metadata": {},
   "outputs": [
    {
     "name": "stdout",
     "output_type": "stream",
     "text": [
      "      0台  1台   2台\n",
      "好調  100  700  1300\n",
      "不調  100  700  1300\n"
     ]
    }
   ],
   "source": [
    "# 製造コスト\n",
    "run_cost_df = pd.DataFrame({\n",
    "    '0台': np.repeat(fixed_cost, 2),\n",
    "    '1台': np.repeat(fixed_cost + run_cost, 2),\n",
    "    '2台': np.repeat(fixed_cost + run_cost * 2, 2)\n",
    "})\n",
    "\n",
    "run_cost_df.index = ['好調', '不調']\n",
    "print(run_cost_df)"
   ]
  },
  {
   "cell_type": "code",
   "execution_count": 17,
   "metadata": {},
   "outputs": [
    {
     "name": "stdout",
     "output_type": "stream",
     "text": [
      "        0台    1台    2台\n",
      "好調 -100.0  300.0  700.0\n",
      "不調 -100.0  300.0 -300.0\n"
     ]
    }
   ],
   "source": [
    "#　利得行列\n",
    "payoff_df = sales_df - run_cost_df\n",
    "print(payoff_df)"
   ]
  },
  {
   "cell_type": "code",
   "execution_count": 18,
   "metadata": {},
   "outputs": [],
   "source": [
    "def calc_payoff_table(fixed_cost, run_cost, sale_price,\n",
    "                        machine_ability, demand_boom, demand_slump):\n",
    "                        \n",
    "    # 出荷された製品の個数\n",
    "    num_product_df = pd.DataFrame({\n",
    "        '0台': [0, 0],\n",
    "        '1台': [min([machine_ability, demand_boom]),\n",
    "            min(machine_ability, demand_slump)],\n",
    "        '2台': [min([machine_ability * 2, demand_boom]),\n",
    "            min(machine_ability * 2, demand_slump)],\n",
    "    })\n",
    "    \n",
    "    # 売り上げ行列\n",
    "    sales_df = num_product_df * sale_price\n",
    "\n",
    "    # 製造コスト\n",
    "    run_cost_df = pd.DataFrame({\n",
    "        '0台': np.repeat(fixed_cost, 2),\n",
    "        '1台': np.repeat(fixed_cost + run_cost, 2),\n",
    "        '2台': np.repeat(fixed_cost + run_cost * 2, 2)\n",
    "    })\n",
    "\n",
    "    #　利得行列\n",
    "    payoff_df = sales_df - run_cost_df\n",
    "    payoff_df.index = ['好調', '不調']\n",
    "\n",
    "    #　結果を返す\n",
    "    return payoff_df"
   ]
  },
  {
   "cell_type": "code",
   "execution_count": 20,
   "metadata": {},
   "outputs": [
    {
     "data": {
      "text/html": [
       "<div>\n",
       "<style scoped>\n",
       "    .dataframe tbody tr th:only-of-type {\n",
       "        vertical-align: middle;\n",
       "    }\n",
       "\n",
       "    .dataframe tbody tr th {\n",
       "        vertical-align: top;\n",
       "    }\n",
       "\n",
       "    .dataframe thead th {\n",
       "        text-align: right;\n",
       "    }\n",
       "</style>\n",
       "<table border=\"1\" class=\"dataframe\">\n",
       "  <thead>\n",
       "    <tr style=\"text-align: right;\">\n",
       "      <th></th>\n",
       "      <th>0台</th>\n",
       "      <th>1台</th>\n",
       "      <th>2台</th>\n",
       "    </tr>\n",
       "  </thead>\n",
       "  <tbody>\n",
       "    <tr>\n",
       "      <th>好調</th>\n",
       "      <td>-100.0</td>\n",
       "      <td>300.0</td>\n",
       "      <td>700.0</td>\n",
       "    </tr>\n",
       "    <tr>\n",
       "      <th>不調</th>\n",
       "      <td>-100.0</td>\n",
       "      <td>300.0</td>\n",
       "      <td>-300.0</td>\n",
       "    </tr>\n",
       "  </tbody>\n",
       "</table>\n",
       "</div>"
      ],
      "text/plain": [
       "        0台    1台    2台\n",
       "好調 -100.0  300.0  700.0\n",
       "不調 -100.0  300.0 -300.0"
      ]
     },
     "execution_count": 20,
     "metadata": {},
     "output_type": "execute_result"
    }
   ],
   "source": [
    "calc_payoff_table(100, 600, 0.2, 5000, 10000, 5000)"
   ]
  },
  {
   "cell_type": "code",
   "execution_count": null,
   "metadata": {},
   "outputs": [],
   "source": []
  }
 ],
 "metadata": {
  "interpreter": {
   "hash": "a665b5d41d17b532ea9890333293a1b812fa0b73c9c25c950b3cedf1bebd0438"
  },
  "kernelspec": {
   "display_name": "Python 3.9.18 64-bit",
   "name": "python3"
  },
  "language_info": {
   "codemirror_mode": {
    "name": "ipython",
    "version": 3
   },
   "file_extension": ".py",
   "mimetype": "text/x-python",
   "name": "python",
   "nbconvert_exporter": "python",
   "pygments_lexer": "ipython3",
   "version": "3.9.18"
  },
  "orig_nbformat": 4
 },
 "nbformat": 4,
 "nbformat_minor": 2
}
